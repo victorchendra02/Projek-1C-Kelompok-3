{
 "cells": [
  {
   "cell_type": "markdown",
   "metadata": {},
   "source": [
    "<h1>Project 1C MATH1042 - Peluang dan Statistika</h1>\n",
    "\n",
    "<b style=\"font-size:20px\">Tugas Pemrograman</b>\n",
    "\n",
    "<b style=\"font-size:16px;\">Anggota Kelompok:</b>\n",
    "\n",
    "<ul>\n",
    "    <li>Darren Nathaniel Rusly - 10101190104</li>\n",
    "    <li>Felicia Yolanda - 10102190618</li>\n",
    "    <li>Gracheilla A. S - 10103190598.</li>\n",
    "    <li>Rivaldo Linogi - 10101190177</li>\n",
    "    <li>Victor Chendra - 10101200338</li>\n",
    "</ul>\n"
   ]
  },
  {
   "cell_type": "code",
   "execution_count": 1,
   "metadata": {},
   "outputs": [
    {
     "data": {
      "text/html": [
       "<div>\n",
       "<style scoped>\n",
       "    .dataframe tbody tr th:only-of-type {\n",
       "        vertical-align: middle;\n",
       "    }\n",
       "\n",
       "    .dataframe tbody tr th {\n",
       "        vertical-align: top;\n",
       "    }\n",
       "\n",
       "    .dataframe thead th {\n",
       "        text-align: right;\n",
       "    }\n",
       "</style>\n",
       "<table border=\"1\" class=\"dataframe\">\n",
       "  <thead>\n",
       "    <tr style=\"text-align: right;\">\n",
       "      <th></th>\n",
       "      <th>name</th>\n",
       "      <th>year</th>\n",
       "      <th>selling_price</th>\n",
       "      <th>km_driven</th>\n",
       "      <th>fuel</th>\n",
       "      <th>seller_type</th>\n",
       "      <th>transmission</th>\n",
       "      <th>owner</th>\n",
       "      <th>mileage</th>\n",
       "      <th>engine</th>\n",
       "      <th>max_power</th>\n",
       "      <th>torque</th>\n",
       "      <th>seats</th>\n",
       "    </tr>\n",
       "  </thead>\n",
       "  <tbody>\n",
       "    <tr>\n",
       "      <th>0</th>\n",
       "      <td>Maruti Swift Dzire VDI</td>\n",
       "      <td>2014</td>\n",
       "      <td>450000</td>\n",
       "      <td>145500</td>\n",
       "      <td>Diesel</td>\n",
       "      <td>Individual</td>\n",
       "      <td>Manual</td>\n",
       "      <td>First Owner</td>\n",
       "      <td>23.4 kmpl</td>\n",
       "      <td>1248 CC</td>\n",
       "      <td>74 bhp</td>\n",
       "      <td>190Nm@ 2000rpm</td>\n",
       "      <td>5.0</td>\n",
       "    </tr>\n",
       "    <tr>\n",
       "      <th>1</th>\n",
       "      <td>Skoda Rapid 1.5 TDI Ambition</td>\n",
       "      <td>2014</td>\n",
       "      <td>370000</td>\n",
       "      <td>120000</td>\n",
       "      <td>Diesel</td>\n",
       "      <td>Individual</td>\n",
       "      <td>Manual</td>\n",
       "      <td>Second Owner</td>\n",
       "      <td>21.14 kmpl</td>\n",
       "      <td>1498 CC</td>\n",
       "      <td>103.52 bhp</td>\n",
       "      <td>250Nm@ 1500-2500rpm</td>\n",
       "      <td>5.0</td>\n",
       "    </tr>\n",
       "    <tr>\n",
       "      <th>2</th>\n",
       "      <td>Honda City 2017-2020 EXi</td>\n",
       "      <td>2006</td>\n",
       "      <td>158000</td>\n",
       "      <td>140000</td>\n",
       "      <td>Petrol</td>\n",
       "      <td>Individual</td>\n",
       "      <td>Manual</td>\n",
       "      <td>Third Owner</td>\n",
       "      <td>17.7 kmpl</td>\n",
       "      <td>1497 CC</td>\n",
       "      <td>78 bhp</td>\n",
       "      <td>12.7@ 2,700(kgm@ rpm)</td>\n",
       "      <td>5.0</td>\n",
       "    </tr>\n",
       "    <tr>\n",
       "      <th>3</th>\n",
       "      <td>Hyundai i20 Sportz Diesel</td>\n",
       "      <td>2010</td>\n",
       "      <td>225000</td>\n",
       "      <td>127000</td>\n",
       "      <td>Diesel</td>\n",
       "      <td>Individual</td>\n",
       "      <td>Manual</td>\n",
       "      <td>First Owner</td>\n",
       "      <td>23.0 kmpl</td>\n",
       "      <td>1396 CC</td>\n",
       "      <td>90 bhp</td>\n",
       "      <td>22.4 kgm at 1750-2750rpm</td>\n",
       "      <td>5.0</td>\n",
       "    </tr>\n",
       "    <tr>\n",
       "      <th>4</th>\n",
       "      <td>Maruti Swift VXI BSIII</td>\n",
       "      <td>2007</td>\n",
       "      <td>130000</td>\n",
       "      <td>120000</td>\n",
       "      <td>Petrol</td>\n",
       "      <td>Individual</td>\n",
       "      <td>Manual</td>\n",
       "      <td>First Owner</td>\n",
       "      <td>16.1 kmpl</td>\n",
       "      <td>1298 CC</td>\n",
       "      <td>88.2 bhp</td>\n",
       "      <td>11.5@ 4,500(kgm@ rpm)</td>\n",
       "      <td>5.0</td>\n",
       "    </tr>\n",
       "  </tbody>\n",
       "</table>\n",
       "</div>"
      ],
      "text/plain": [
       "                           name  year  selling_price  km_driven    fuel  \\\n",
       "0        Maruti Swift Dzire VDI  2014         450000     145500  Diesel   \n",
       "1  Skoda Rapid 1.5 TDI Ambition  2014         370000     120000  Diesel   \n",
       "2      Honda City 2017-2020 EXi  2006         158000     140000  Petrol   \n",
       "3     Hyundai i20 Sportz Diesel  2010         225000     127000  Diesel   \n",
       "4        Maruti Swift VXI BSIII  2007         130000     120000  Petrol   \n",
       "\n",
       "  seller_type transmission         owner     mileage   engine   max_power  \\\n",
       "0  Individual       Manual   First Owner   23.4 kmpl  1248 CC      74 bhp   \n",
       "1  Individual       Manual  Second Owner  21.14 kmpl  1498 CC  103.52 bhp   \n",
       "2  Individual       Manual   Third Owner   17.7 kmpl  1497 CC      78 bhp   \n",
       "3  Individual       Manual   First Owner   23.0 kmpl  1396 CC      90 bhp   \n",
       "4  Individual       Manual   First Owner   16.1 kmpl  1298 CC    88.2 bhp   \n",
       "\n",
       "                     torque  seats  \n",
       "0            190Nm@ 2000rpm    5.0  \n",
       "1       250Nm@ 1500-2500rpm    5.0  \n",
       "2     12.7@ 2,700(kgm@ rpm)    5.0  \n",
       "3  22.4 kgm at 1750-2750rpm    5.0  \n",
       "4     11.5@ 4,500(kgm@ rpm)    5.0  "
      ]
     },
     "execution_count": 1,
     "metadata": {},
     "output_type": "execute_result"
    }
   ],
   "source": [
    "import pandas as pd\n",
    "\n",
    "dataset = pd.read_csv('Dataset1C.csv')\n",
    "dataset.head()"
   ]
  },
  {
   "cell_type": "code",
   "execution_count": 2,
   "metadata": {},
   "outputs": [
    {
     "name": "stderr",
     "output_type": "stream",
     "text": [
      "<ipython-input-2-4df846f915ef>:4: SettingWithCopyWarning: \n",
      "A value is trying to be set on a copy of a slice from a DataFrame\n",
      "\n",
      "See the caveats in the documentation: https://pandas.pydata.org/pandas-docs/stable/user_guide/indexing.html#returning-a-view-versus-a-copy\n",
      "  dataset['mileage'][i] = dataset['mileage'][i].replace(' kmpl', '')\n",
      "<ipython-input-2-4df846f915ef>:7: SettingWithCopyWarning: \n",
      "A value is trying to be set on a copy of a slice from a DataFrame\n",
      "\n",
      "See the caveats in the documentation: https://pandas.pydata.org/pandas-docs/stable/user_guide/indexing.html#returning-a-view-versus-a-copy\n",
      "  dataset['mileage'][i] = dataset['mileage'][i].replace(' km/kg', '')\n"
     ]
    }
   ],
   "source": [
    "for i in range(len(dataset['mileage'])):\n",
    "    if type(dataset['mileage'][i]) == str:\n",
    "        if ' kmpl' in dataset['mileage'][i]:\n",
    "            dataset['mileage'][i] = dataset['mileage'][i].replace(' kmpl', '')\n",
    "        if ' km/kg' in dataset['mileage'][i]:\n",
    "            # Satuan kg adalah sama dengan l sehingga tidak diperlukan konversi\n",
    "            dataset['mileage'][i] = dataset['mileage'][i].replace(' km/kg', '')\n",
    "        \n",
    "dataset['mileage'] = dataset['mileage'].astype(float)"
   ]
  },
  {
   "cell_type": "code",
   "execution_count": 3,
   "metadata": {},
   "outputs": [],
   "source": [
    "dataset['mileage'].fillna(dataset['mileage'].mean(), inplace=True)"
   ]
  },
  {
   "cell_type": "code",
   "execution_count": 4,
   "metadata": {},
   "outputs": [
    {
     "name": "stderr",
     "output_type": "stream",
     "text": [
      "<ipython-input-4-6a170100d63c>:11: SettingWithCopyWarning: \n",
      "A value is trying to be set on a copy of a slice from a DataFrame\n",
      "\n",
      "See the caveats in the documentation: https://pandas.pydata.org/pandas-docs/stable/user_guide/indexing.html#returning-a-view-versus-a-copy\n",
      "  dataset['class_sell'][i] = 2\n",
      "<ipython-input-4-6a170100d63c>:24: SettingWithCopyWarning: \n",
      "A value is trying to be set on a copy of a slice from a DataFrame\n",
      "\n",
      "See the caveats in the documentation: https://pandas.pydata.org/pandas-docs/stable/user_guide/indexing.html#returning-a-view-versus-a-copy\n",
      "  dataset['class_km'][i] = 2\n",
      "<ipython-input-4-6a170100d63c>:37: SettingWithCopyWarning: \n",
      "A value is trying to be set on a copy of a slice from a DataFrame\n",
      "\n",
      "See the caveats in the documentation: https://pandas.pydata.org/pandas-docs/stable/user_guide/indexing.html#returning-a-view-versus-a-copy\n",
      "  dataset['class_kmpl'][i] = 2\n",
      "<ipython-input-4-6a170100d63c>:9: SettingWithCopyWarning: \n",
      "A value is trying to be set on a copy of a slice from a DataFrame\n",
      "\n",
      "See the caveats in the documentation: https://pandas.pydata.org/pandas-docs/stable/user_guide/indexing.html#returning-a-view-versus-a-copy\n",
      "  dataset['class_sell'][i] = 1\n",
      "<ipython-input-4-6a170100d63c>:35: SettingWithCopyWarning: \n",
      "A value is trying to be set on a copy of a slice from a DataFrame\n",
      "\n",
      "See the caveats in the documentation: https://pandas.pydata.org/pandas-docs/stable/user_guide/indexing.html#returning-a-view-versus-a-copy\n",
      "  dataset['class_kmpl'][i] = 1\n",
      "<ipython-input-4-6a170100d63c>:22: SettingWithCopyWarning: \n",
      "A value is trying to be set on a copy of a slice from a DataFrame\n",
      "\n",
      "See the caveats in the documentation: https://pandas.pydata.org/pandas-docs/stable/user_guide/indexing.html#returning-a-view-versus-a-copy\n",
      "  dataset['class_km'][i] = 1\n",
      "<ipython-input-4-6a170100d63c>:7: SettingWithCopyWarning: \n",
      "A value is trying to be set on a copy of a slice from a DataFrame\n",
      "\n",
      "See the caveats in the documentation: https://pandas.pydata.org/pandas-docs/stable/user_guide/indexing.html#returning-a-view-versus-a-copy\n",
      "  dataset['class_sell'][i] = 0\n",
      "<ipython-input-4-6a170100d63c>:26: SettingWithCopyWarning: \n",
      "A value is trying to be set on a copy of a slice from a DataFrame\n",
      "\n",
      "See the caveats in the documentation: https://pandas.pydata.org/pandas-docs/stable/user_guide/indexing.html#returning-a-view-versus-a-copy\n",
      "  dataset['class_km'][i] = 3\n",
      "<ipython-input-4-6a170100d63c>:20: SettingWithCopyWarning: \n",
      "A value is trying to be set on a copy of a slice from a DataFrame\n",
      "\n",
      "See the caveats in the documentation: https://pandas.pydata.org/pandas-docs/stable/user_guide/indexing.html#returning-a-view-versus-a-copy\n",
      "  dataset['class_km'][i] = 0\n",
      "<ipython-input-4-6a170100d63c>:13: SettingWithCopyWarning: \n",
      "A value is trying to be set on a copy of a slice from a DataFrame\n",
      "\n",
      "See the caveats in the documentation: https://pandas.pydata.org/pandas-docs/stable/user_guide/indexing.html#returning-a-view-versus-a-copy\n",
      "  dataset['class_sell'][i] = 3\n",
      "<ipython-input-4-6a170100d63c>:39: SettingWithCopyWarning: \n",
      "A value is trying to be set on a copy of a slice from a DataFrame\n",
      "\n",
      "See the caveats in the documentation: https://pandas.pydata.org/pandas-docs/stable/user_guide/indexing.html#returning-a-view-versus-a-copy\n",
      "  dataset['class_kmpl'][i] = 3\n",
      "<ipython-input-4-6a170100d63c>:15: SettingWithCopyWarning: \n",
      "A value is trying to be set on a copy of a slice from a DataFrame\n",
      "\n",
      "See the caveats in the documentation: https://pandas.pydata.org/pandas-docs/stable/user_guide/indexing.html#returning-a-view-versus-a-copy\n",
      "  dataset['class_sell'][i] = 4\n",
      "<ipython-input-4-6a170100d63c>:17: SettingWithCopyWarning: \n",
      "A value is trying to be set on a copy of a slice from a DataFrame\n",
      "\n",
      "See the caveats in the documentation: https://pandas.pydata.org/pandas-docs/stable/user_guide/indexing.html#returning-a-view-versus-a-copy\n",
      "  dataset['class_sell'][i] = 5\n",
      "<ipython-input-4-6a170100d63c>:33: SettingWithCopyWarning: \n",
      "A value is trying to be set on a copy of a slice from a DataFrame\n",
      "\n",
      "See the caveats in the documentation: https://pandas.pydata.org/pandas-docs/stable/user_guide/indexing.html#returning-a-view-versus-a-copy\n",
      "  dataset['class_kmpl'][i] = 0\n",
      "<ipython-input-4-6a170100d63c>:41: SettingWithCopyWarning: \n",
      "A value is trying to be set on a copy of a slice from a DataFrame\n",
      "\n",
      "See the caveats in the documentation: https://pandas.pydata.org/pandas-docs/stable/user_guide/indexing.html#returning-a-view-versus-a-copy\n",
      "  dataset['class_kmpl'][i] = 4\n",
      "<ipython-input-4-6a170100d63c>:28: SettingWithCopyWarning: \n",
      "A value is trying to be set on a copy of a slice from a DataFrame\n",
      "\n",
      "See the caveats in the documentation: https://pandas.pydata.org/pandas-docs/stable/user_guide/indexing.html#returning-a-view-versus-a-copy\n",
      "  dataset['class_km'][i] = 4\n",
      "<ipython-input-4-6a170100d63c>:30: SettingWithCopyWarning: \n",
      "A value is trying to be set on a copy of a slice from a DataFrame\n",
      "\n",
      "See the caveats in the documentation: https://pandas.pydata.org/pandas-docs/stable/user_guide/indexing.html#returning-a-view-versus-a-copy\n",
      "  dataset['class_km'][i] = 5\n"
     ]
    }
   ],
   "source": [
    "dataset['class_sell'] = 0\n",
    "dataset['class_km'] = 0\n",
    "dataset['class_kmpl'] = 0\n",
    "\n",
    "for i in range(len(dataset)):\n",
    "    if dataset['selling_price'][i] < 100000:\n",
    "        dataset['class_sell'][i] = 0\n",
    "    if dataset['selling_price'][i] >= 100000 and dataset['selling_price'][i] < 350000:\n",
    "        dataset['class_sell'][i] = 1\n",
    "    if dataset['selling_price'][i] >= 350000 and dataset['selling_price'][i] < 600000:\n",
    "        dataset['class_sell'][i] = 2\n",
    "    if dataset['selling_price'][i] >= 600000 and dataset['selling_price'][i] < 1000000:\n",
    "        dataset['class_sell'][i] = 3\n",
    "    if dataset['selling_price'][i] >= 1000000 and dataset['selling_price'][i] <= 1500000:\n",
    "        dataset['class_sell'][i] = 4\n",
    "    if dataset['selling_price'][i] > 1500000:\n",
    "        dataset['class_sell'][i] = 5\n",
    "\n",
    "    if dataset['km_driven'][i] < 25000:\n",
    "        dataset['class_km'][i] = 0\n",
    "    if dataset['km_driven'][i] >= 25000 and dataset['km_driven'][i] < 100000:\n",
    "        dataset['class_km'][i] = 1\n",
    "    if dataset['km_driven'][i] >= 100000 and dataset['km_driven'][i] < 150000:\n",
    "        dataset['class_km'][i] = 2\n",
    "    if dataset['km_driven'][i] >= 150000 and dataset['km_driven'][i] < 250000:\n",
    "        dataset['class_km'][i] = 3\n",
    "    if dataset['km_driven'][i] >= 250000 and dataset['km_driven'][i] <= 450000:\n",
    "        dataset['class_km'][i] = 4\n",
    "    if dataset['km_driven'][i] > 450000:\n",
    "        dataset['class_km'][i] = 5\n",
    "\n",
    "    if dataset['mileage'][i] < 10:\n",
    "        dataset['class_kmpl'][i] = 0\n",
    "    if dataset['mileage'][i] >= 10 and dataset['mileage'][i] < 20:\n",
    "        dataset['class_kmpl'][i] = 1\n",
    "    if dataset['mileage'][i] >= 20 and dataset['mileage'][i] < 30:\n",
    "        dataset['class_kmpl'][i] = 2\n",
    "    if dataset['mileage'][i] >= 30 and dataset['mileage'][i] <= 40:\n",
    "        dataset['class_kmpl'][i] = 3\n",
    "    if dataset['mileage'][i] > 40:\n",
    "        dataset['class_kmpl'][i] = 4"
   ]
  },
  {
   "cell_type": "code",
   "execution_count": 5,
   "metadata": {},
   "outputs": [
    {
     "name": "stdout",
     "output_type": "stream",
     "text": [
      "<class 'pandas.core.frame.DataFrame'>\n",
      "RangeIndex: 8128 entries, 0 to 8127\n",
      "Data columns (total 16 columns):\n",
      " #   Column         Non-Null Count  Dtype  \n",
      "---  ------         --------------  -----  \n",
      " 0   name           8128 non-null   object \n",
      " 1   year           8128 non-null   int64  \n",
      " 2   selling_price  8128 non-null   int64  \n",
      " 3   km_driven      8128 non-null   int64  \n",
      " 4   fuel           8128 non-null   object \n",
      " 5   seller_type    8128 non-null   object \n",
      " 6   transmission   8128 non-null   object \n",
      " 7   owner          8128 non-null   object \n",
      " 8   mileage        8128 non-null   float64\n",
      " 9   engine         7907 non-null   object \n",
      " 10  max_power      7913 non-null   object \n",
      " 11  torque         7906 non-null   object \n",
      " 12  seats          7907 non-null   float64\n",
      " 13  class_sell     8128 non-null   int64  \n",
      " 14  class_km       8128 non-null   int64  \n",
      " 15  class_kmpl     8128 non-null   int64  \n",
      "dtypes: float64(2), int64(6), object(8)\n",
      "memory usage: 762.1+ KB\n"
     ]
    }
   ],
   "source": [
    "dataset.info()"
   ]
  },
  {
   "cell_type": "markdown",
   "metadata": {},
   "source": [
    "<h1>Rangkuman Statistika Kuantitatif</h1>"
   ]
  },
  {
   "cell_type": "code",
   "execution_count": 6,
   "metadata": {},
   "outputs": [
    {
     "name": "stdout",
     "output_type": "stream",
     "text": [
      "Rata-rata 'year' :  2013.8\n",
      "Rata-rata 'seliing_price' :  638271.81\n",
      "Rata-rata 'km_driven' :  69819.51\n",
      "Rata-rata 'kmpl' :  19.42\n"
     ]
    }
   ],
   "source": [
    "# mean\n",
    "year_mean = dataset['year'].mean()\n",
    "print(\"Rata-rata 'year' : \", round(year_mean,2))\n",
    "\n",
    "test = dataset[dataset['selling_price'] < 10000000]['selling_price']\n",
    "selling_price_mean = dataset['selling_price'].mean()\n",
    "print(\"Rata-rata 'seliing_price' : \" ,round(selling_price_mean,2))\n",
    "\n",
    "km_driven_mean = dataset['km_driven'].mean()\n",
    "print(\"Rata-rata 'km_driven' : \", round(km_driven_mean,2))\n",
    "\n",
    "kmpl_mean = dataset['mileage'].mean()\n",
    "print(\"Rata-rata 'kmpl' : \", round(kmpl_mean,2))"
   ]
  },
  {
   "cell_type": "code",
   "execution_count": 7,
   "metadata": {},
   "outputs": [
    {
     "name": "stdout",
     "output_type": "stream",
     "text": [
      "Median 'year' :  2015.0\n",
      "Median 'seliing_price' :  450000.0\n",
      "Median 'km_driven' :  60000.0\n",
      "Median 'kmpl' :  19.42\n"
     ]
    }
   ],
   "source": [
    "# median\n",
    "dict_sell = {0:\"0-99999\", 1:\"100000-349999\", 2:\"350000-599999\", 3:\"600000-999999\", 4:\"1000000-1500000\", 5:\"1500000+\"}\n",
    "dict_km = {0:\"0-24999\", 1:\"25000-99999\", 2:\"100000-149999\", 3:\"150000-249999\", 4:\"250000-450000\", 5:\"450000+\"}\n",
    "dict_kmpl = {0:\"0-9\", 1:\"10-19\", 2:\"20-29\", 3:\"30-40\", 4:\"40+\"}\n",
    "\n",
    "year_median = dataset['year'].median()\n",
    "print(\"Median 'year' : \", round(year_median,2))\n",
    "\n",
    "selling_price_median = dataset['selling_price'].median()\n",
    "print(\"Median 'seliing_price' : \" ,round(selling_price_median,2))\n",
    "\n",
    "km_driven_median = dataset['km_driven'].median()\n",
    "print(\"Median 'km_driven' : \", round(km_driven_median,2))\n",
    "\n",
    "kmpl_median = dataset['mileage'].median()\n",
    "print(\"Median 'kmpl' : \", round(kmpl_median,2))"
   ]
  },
  {
   "cell_type": "code",
   "execution_count": 8,
   "metadata": {},
   "outputs": [
    {
     "name": "stdout",
     "output_type": "stream",
     "text": [
      "Modus 'year' :  2017\n",
      "Modus 'seliing_price' :  100000-349999\n",
      "Modus 'km_driven' :  25000-99999\n",
      "Modus 'kmpl' :  10-19\n"
     ]
    }
   ],
   "source": [
    "# modus\n",
    "import statistics as statis\n",
    "\n",
    "year_modus = statis.mode(dataset['year'])\n",
    "print(\"Modus 'year' : \", round(year_modus,2))\n",
    "a = 0\n",
    "for i in dataset['year']:\n",
    "    if i == year_modus:\n",
    "        a +=1\n",
    "\n",
    "selling_price_modus = statis.mode(dataset['class_sell'])\n",
    "print(f\"Modus 'seliing_price' : \" , dict_sell[selling_price_modus])\n",
    "\n",
    "km_driven_modus = statis.mode(dataset['class_km'])\n",
    "print(\"Modus 'km_driven' : \", dict_km[km_driven_modus])\n",
    "\n",
    "kmpl_modus = statis.mode(dataset['class_kmpl'])\n",
    "print(\"Modus 'kmpl' : \", dict_kmpl[kmpl_modus])"
   ]
  },
  {
   "cell_type": "code",
   "execution_count": 9,
   "metadata": {},
   "outputs": [
    {
     "name": "stdout",
     "output_type": "stream",
     "text": [
      "Standar Deviasi dari year adalah :  4.044\n",
      "Standar Deviasi dari Selling_price adalah :  806203.805\n",
      "Standar Deviasi dari km_driven adalah :  56547.076\n",
      "Standar Deviasi dari kmpl adalah :  89831.09\n"
     ]
    }
   ],
   "source": [
    "## Standar Deviasi\n",
    "# buat year \n",
    "\n",
    "import math \n",
    "def SD_year (x):\n",
    "    temp = 0\n",
    "\n",
    "    for i in dataset['year']:\n",
    "        value = (i-x)**2\n",
    "        temp += value\n",
    "    hasil = math.sqrt(temp / len(dataset['year']))\n",
    "    return round(hasil,3)\n",
    "print(\"Standar Deviasi dari year adalah : \" ,SD_year(year_mean))\n",
    "\n",
    "def SD_selling_price (x):\n",
    "    temp = 0\n",
    "    for i in dataset['selling_price']:\n",
    "        value = (i-x)**2\n",
    "        temp += value\n",
    "    hasil = math.sqrt(temp / len(dataset['selling_price']))\n",
    "    return round(hasil,3)\n",
    "print(\"Standar Deviasi dari Selling_price adalah : \" , SD_selling_price(selling_price_mean))\n",
    "\n",
    "def SD_km_driven (x):\n",
    "    temp = 0\n",
    "    for i in dataset['km_driven']:\n",
    "        value = (i-x)**2\n",
    "        temp += value\n",
    "    hasil = math.sqrt(temp / len(dataset['km_driven']))\n",
    "    return round(hasil,3)   \n",
    "print(\"Standar Deviasi dari km_driven adalah : \" , SD_km_driven(km_driven_mean))\n",
    "\n",
    "def SD_kmpl (x):\n",
    "    temp = 0\n",
    "    for i in dataset['mileage']:\n",
    "        value = (i-x)**2\n",
    "        temp += value\n",
    "    hasil = math.sqrt(temp / len(dataset['mileage']))\n",
    "    return round(hasil,3)   \n",
    "print(\"Standar Deviasi dari kmpl adalah : \" , SD_km_driven(kmpl_mean))\n",
    "\n"
   ]
  },
  {
   "cell_type": "code",
   "execution_count": 10,
   "metadata": {},
   "outputs": [
    {
     "name": "stdout",
     "output_type": "stream",
     "text": [
      "Q1 dari year adalah :  2011\n",
      "Q2 dari year adalah :  2015\n",
      "Q3 dari year adalah :  2017\n",
      "IQR dari year adalah :  6\n",
      "Batas pencilan dari year adalah :  2002.0 dan 2026.0\n"
     ]
    }
   ],
   "source": [
    "# Menghitung kuartil year\n",
    "import math\n",
    "\n",
    "ls = dataset['year'].sort_values(ascending = True, ignore_index=True)\n",
    "def Q1_year (x):\n",
    "    temp1 = 1/4*(len(x)+1)\n",
    "    temp2 = 1/2*(len(x)+1)\n",
    "    temp3 = 3/4*(len(x)+ 1)\n",
    "    def temp1_year(temp1,x):\n",
    "        if temp1 is not int:\n",
    "            temp11 = math.floor(temp1)\n",
    "            temp12 = math.ceil(temp1)\n",
    "            if x[temp11] == x[temp12]:\n",
    "                return round(x[temp11],0)\n",
    "            else:\n",
    "                value = (x[temp11] + x[temp12])/2\n",
    "                return round(value,0)\n",
    "        else :\n",
    "            return round(x[temp1]),0\n",
    "    def temp2_year(temp2,x):\n",
    "        if temp2 is not int:\n",
    "            temp22 = math.floor(temp2)\n",
    "            temp23 = math.ceil(temp2)\n",
    "            if x[temp22] == x[temp23]:\n",
    "                return round(x[temp22],0)\n",
    "            else:\n",
    "                value = (x[temp22] + x[temp23])/2\n",
    "                return round(value,0)\n",
    "        else :\n",
    "            return round(x[temp2],0)\n",
    "\n",
    "    def temp3_year(temp3,x):\n",
    "        if temp3 is not int:\n",
    "            temp33 = math.floor(temp3)\n",
    "            temp34 = math.floor(temp3)\n",
    "            if x[temp33] == x[temp34]:\n",
    "                return round(x[temp33],0)\n",
    "            else:\n",
    "                value = (x[temp33] + x[temp34])/2\n",
    "                return round(value,0)\n",
    "        else :\n",
    "            return round(x[temp3],0)\n",
    "    IR = temp3_year(temp3,x) - temp1_year(temp1,x)\n",
    "    range_o = 1.5*IR\n",
    "    print(\"Q1 dari year adalah : \", temp1_year(temp1,x))\n",
    "    print(\"Q2 dari year adalah : \", temp2_year(temp2,x))\n",
    "    print(\"Q3 dari year adalah : \", temp3_year(temp3,x))\n",
    "    print(\"IQR dari year adalah : \", IR)\n",
    "    print(\"Batas pencilan dari year adalah : \", temp1_year(temp1,x)-range_o, \"dan\", temp3_year(temp3,x)+range_o )\n",
    "\n",
    "Q1_year(ls)"
   ]
  },
  {
   "cell_type": "code",
   "execution_count": 11,
   "metadata": {},
   "outputs": [
    {
     "name": "stdout",
     "output_type": "stream",
     "text": [
      "Q1 dari selling_price adalah :  254999\n",
      "Q2 dari selling_price adalah :  450000\n",
      "Q3 dari selling_price adalah :  675000\n",
      "IQR dari selling_price adalah :  420001\n",
      "Batas pencilan dari selling_price adalah :  -375002.5 dan 1305001.5\n"
     ]
    }
   ],
   "source": [
    "# Menghitung kuartil selling price\n",
    "import math\n",
    "\n",
    "ls = dataset['selling_price'].sort_values(ascending = True, ignore_index=True)\n",
    "def Q1_selling_price (x):\n",
    "    temp1 = 1/4*(len(x)+1)\n",
    "    temp2 = 1/2*(len(x)+1)\n",
    "    temp3 = 3/4*(len(x)+ 1)\n",
    "    def temp1_selling_price(temp1,x):\n",
    "        if temp1 is not int:\n",
    "            temp11 = math.floor(temp1)\n",
    "            temp12 = math.ceil(temp1)\n",
    "            if x[temp11] == x[temp12]:\n",
    "                return round(x[temp11],0)\n",
    "            else:\n",
    "                value = (x[temp11] + x[temp12])/2\n",
    "                return round(value,0)\n",
    "        else :\n",
    "            return round(x[temp1],0)\n",
    "    def temp2_selling_price(temp2,x):\n",
    "        if temp2 is not int:\n",
    "            temp22 = math.floor(temp2)\n",
    "            temp23 = math.ceil(temp2)\n",
    "            if x[temp22] == x[temp23]:\n",
    "                return round(x[temp22],0)\n",
    "            else:\n",
    "                value = (x[temp22] + x[temp23])/2\n",
    "                return round(value,0)\n",
    "        else :\n",
    "            return round(x[temp2],0)\n",
    "\n",
    "    def temp3_selling_price(temp3,x):\n",
    "        if temp3 is not int:\n",
    "            temp33 = math.floor(temp3)\n",
    "            temp34 = math.floor(temp3)\n",
    "            if x[temp33] == x[temp34]:\n",
    "                return round(x[temp33],0)\n",
    "            else:\n",
    "                value = (x[temp33] + x[temp34])/2\n",
    "                return round(value,0)\n",
    "        else :\n",
    "            return round(x[temp3],0)\n",
    "    IR = temp3_selling_price(temp3,x) - temp1_selling_price(temp1,x)\n",
    "    range_o = 1.5*IR\n",
    "    print(\"Q1 dari selling_price adalah : \", temp1_selling_price(temp1,x))\n",
    "    print(\"Q2 dari selling_price adalah : \", temp2_selling_price(temp2,x))\n",
    "    print(\"Q3 dari selling_price adalah : \", temp3_selling_price(temp3,x))\n",
    "    print(\"IQR dari selling_price adalah : \", IR)\n",
    "    print(\"Batas pencilan dari selling_price adalah : \", temp1_selling_price(temp1,x)-range_o, \"dan\", temp3_selling_price(temp3,x)+range_o )\n",
    "\n",
    "Q1_selling_price(ls)"
   ]
  },
  {
   "cell_type": "code",
   "execution_count": 12,
   "metadata": {},
   "outputs": [
    {
     "name": "stdout",
     "output_type": "stream",
     "text": [
      "Q1 dari km_driven adalah :  35000\n",
      "Q2 dari km_driven adalah :  60000\n",
      "Q3 dari km_driven adalah :  98000\n",
      "IQR dari km_driven adalah :  63000\n",
      "Batas pencilan dari km_driven adalah :  -59500.0 dan 192500.0\n"
     ]
    }
   ],
   "source": [
    "# Menghitung kuartil km_driven\n",
    "import math\n",
    "\n",
    "ls = dataset['km_driven'].sort_values(ascending = True, ignore_index=True)\n",
    "def Q1_km_driven (x):\n",
    "    temp1 = 1/4*(len(x)+1)\n",
    "    temp2 = 1/2*(len(x)+1)\n",
    "    temp3 = 3/4*(len(x)+ 1)\n",
    "    def temp1_km_driven(temp1,x):\n",
    "        if temp1 is not int:\n",
    "            temp11 = math.floor(temp1)\n",
    "            temp12 = math.ceil(temp1)\n",
    "            if x[temp11] == x[temp12]:\n",
    "                return round(x[temp11],0)\n",
    "            else:\n",
    "                value = (x[temp11] + x[temp12])/2\n",
    "                return round(value,0)\n",
    "        else :\n",
    "            return round(x[temp1]),0\n",
    "    def temp2_km_driven(temp2,x):\n",
    "        if temp2 is not int:\n",
    "            temp22 = math.floor(temp2)\n",
    "            temp23 = math.ceil(temp2)\n",
    "            if x[temp22] == x[temp23]:\n",
    "                return round(x[temp22],0)\n",
    "            else:\n",
    "                value = (x[temp22] + x[temp23])/2\n",
    "                return round(value,0)\n",
    "        else :\n",
    "            return round(x[temp2],0)\n",
    "\n",
    "    def temp3_km_driven(temp3,x):\n",
    "        if temp3 is not int:\n",
    "            temp33 = math.floor(temp3)\n",
    "            temp34 = math.floor(temp3)\n",
    "            if x[temp33] == x[temp34]:\n",
    "                return round(x[temp33],0)\n",
    "            else:\n",
    "                value = (x[temp33] + x[temp34])/2\n",
    "                return round(value,0)\n",
    "        else :\n",
    "            return round(x[temp3],0)\n",
    "    IR = temp3_km_driven(temp3,x) - temp1_km_driven(temp1,x)\n",
    "    range_o = 1.5*IR\n",
    "    print(\"Q1 dari km_driven adalah : \", temp1_km_driven(temp1,x))\n",
    "    print(\"Q2 dari km_driven adalah : \", temp2_km_driven(temp2,x))\n",
    "    print(\"Q3 dari km_driven adalah : \", temp3_km_driven(temp3,x))\n",
    "    print(\"IQR dari km_driven adalah : \", IR)\n",
    "    print(\"Batas pencilan dari km_driven adalah : \", temp1_km_driven(temp1,x)-range_o, \"dan\", temp3_km_driven(temp3,x)+range_o )\n",
    "\n",
    "Q1_km_driven(ls)"
   ]
  },
  {
   "cell_type": "code",
   "execution_count": 13,
   "metadata": {},
   "outputs": [
    {
     "name": "stdout",
     "output_type": "stream",
     "text": [
      "Q1 dari kmpl adalah :  17.0\n",
      "Q2 dari kmpl adalah :  19.0\n",
      "Q3 dari kmpl adalah :  22.0\n",
      "IQR dari kmpl adalah :  5.0\n",
      "Batas pencilan dari kmpl adalah :  9.5 dan 29.5\n"
     ]
    }
   ],
   "source": [
    "# Menghitung kuartil kmpl/mileage\n",
    "import math\n",
    "\n",
    "ls = dataset['mileage'].sort_values(ascending = True, ignore_index=True)\n",
    "def Q1_mileage (x):\n",
    "    temp1 = 1/4*(len(x)+1)\n",
    "    temp2 = 1/2*(len(x)+1)\n",
    "    temp3 = 3/4*(len(x)+ 1)\n",
    "    def temp1_mileage(temp1,x):\n",
    "        if temp1 is not int:\n",
    "            temp11 = math.floor(temp1)\n",
    "            temp12 = math.ceil(temp1)\n",
    "            if x[temp11] == x[temp12]:\n",
    "                return round(x[temp11],0)\n",
    "            else:\n",
    "                value = (x[temp11] + x[temp12])/2\n",
    "                return round(value,0)\n",
    "        else :\n",
    "            return round(x[temp1]),0\n",
    "    def temp2_mileage(temp2,x):\n",
    "        if temp2 is not int:\n",
    "            temp22 = math.floor(temp2)\n",
    "            temp23 = math.ceil(temp2)\n",
    "            if x[temp22] == x[temp23]:\n",
    "                return round(x[temp22],0)\n",
    "            else:\n",
    "                value = (x[temp22] + x[temp23])/2\n",
    "                return round(value,0)\n",
    "        else :\n",
    "            return round(x[temp2],0)\n",
    "\n",
    "    def temp3_mileage(temp3,x):\n",
    "        if temp3 is not int:\n",
    "            temp33 = math.floor(temp3)\n",
    "            temp34 = math.floor(temp3)\n",
    "            if x[temp33] == x[temp34]:\n",
    "                return round(x[temp33],0)\n",
    "            else:\n",
    "                value = (x[temp33] + x[temp34])/2\n",
    "                return round(value,0)\n",
    "        else :\n",
    "            return round(x[temp3],0)\n",
    "    IR = temp3_mileage(temp3,x) - temp1_mileage(temp1,x)\n",
    "    range_o = 1.5*IR\n",
    "    print(\"Q1 dari kmpl adalah : \", temp1_mileage(temp1,x))\n",
    "    print(\"Q2 dari kmpl adalah : \", temp2_mileage(temp2,x))\n",
    "    print(\"Q3 dari kmpl adalah : \", temp3_mileage(temp3,x))\n",
    "    print(\"IQR dari kmpl adalah : \", IR)\n",
    "    print(\"Batas pencilan dari kmpl adalah : \", temp1_mileage(temp1,x)-range_o, \"dan\", temp3_mileage(temp3,x)+range_o )\n",
    "\n",
    "Q1_mileage(ls)"
   ]
  },
  {
   "cell_type": "markdown",
   "metadata": {},
   "source": [
    "<h1>Visualisasi Data</h1>"
   ]
  },
  {
   "cell_type": "code",
   "execution_count": 14,
   "metadata": {},
   "outputs": [],
   "source": [
    "X_1 = dataset.iloc[0:, 1].values # year\n",
    "X_2 = dataset.iloc[0:, 2].values # selling_price\n",
    "X_3 = dataset.iloc[0:, 3].values # km_driven\n",
    "X_4 = dataset.iloc[0:, 8].values # kmpl"
   ]
  },
  {
   "cell_type": "code",
   "execution_count": 15,
   "metadata": {},
   "outputs": [
    {
     "data": {
      "text/plain": [
       "{'whiskers': [<matplotlib.lines.Line2D at 0xadc3388>,\n",
       "  <matplotlib.lines.Line2D at 0xadc3538>],\n",
       " 'caps': [<matplotlib.lines.Line2D at 0xadc36e8>,\n",
       "  <matplotlib.lines.Line2D at 0xadc3898>],\n",
       " 'boxes': [<matplotlib.lines.Line2D at 0xadc3220>],\n",
       " 'medians': [<matplotlib.lines.Line2D at 0xadc3a48>],\n",
       " 'fliers': [<matplotlib.lines.Line2D at 0xadc3bf8>],\n",
       " 'means': []}"
      ]
     },
     "execution_count": 15,
     "metadata": {},
     "output_type": "execute_result"
    },
    {
     "data": {
      "image/png": "[encoded data removed]",
      "text/plain": [
       "<Figure size 1296x576 with 2 Axes>"
      ]
     },
     "metadata": {
      "needs_background": "light"
     },
     "output_type": "display_data"
    }
   ],
   "source": [
    "import matplotlib.pyplot as plt\n",
    "import numpy as np\n",
    "\n",
    "fig, ax = plt.subplots(ncols=2, figsize=(18, 8))\n",
    "\n",
    "plt.sca(ax[0])\n",
    "plt.xlabel('year', fontsize=12)\n",
    "plt.ylabel('relative frequency', fontsize=12)\n",
    "plt.hist(X_1, bins = 45, weights = np.zeros_like(X_1) + 1 / X_1.size)\n",
    "\n",
    "plt.sca(ax[1])\n",
    "plt.ylabel('year', fontsize=12)\n",
    "plt.boxplot(X_1)"
   ]
  },
  {
   "cell_type": "code",
   "execution_count": 16,
   "metadata": {},
   "outputs": [
    {
     "data": {
      "text/plain": [
       "{'whiskers': [<matplotlib.lines.Line2D at 0xf038e68>,\n",
       "  <matplotlib.lines.Line2D at 0xf048040>],\n",
       " 'caps': [<matplotlib.lines.Line2D at 0xf0481f0>,\n",
       "  <matplotlib.lines.Line2D at 0xf0483a0>],\n",
       " 'boxes': [<matplotlib.lines.Line2D at 0xf038d00>],\n",
       " 'medians': [<matplotlib.lines.Line2D at 0xf048550>],\n",
       " 'fliers': [<matplotlib.lines.Line2D at 0xf048700>],\n",
       " 'means': []}"
      ]
     },
     "execution_count": 16,
     "metadata": {},
     "output_type": "execute_result"
    },
    {
     "data": {
      "image/png": "[encoded data removed]",
      "text/plain": [
       "<Figure size 1296x576 with 2 Axes>"
      ]
     },
     "metadata": {
      "needs_background": "light"
     },
     "output_type": "display_data"
    }
   ],
   "source": [
    "from sklearn.preprocessing import StandardScaler\n",
    "fig2, ax2 = plt.subplots(ncols=2, figsize=(18, 8))\n",
    "sc = StandardScaler()\n",
    "X_2 = X_2[X_2 < 6500000]\n",
    "X_2 = sc.fit_transform(X_2.reshape(-1,1))\n",
    "\n",
    "plt.sca(ax2[0])\n",
    "plt.xlabel('selling price', fontsize=12)\n",
    "plt.ylabel('relative frequency', fontsize=12)\n",
    "plt.hist(X_2, bins = 40, weights = np.zeros_like(X_2) + 1 / X_2.size)\n",
    "\n",
    "plt.sca(ax2[1])\n",
    "plt.ylabel('selling price', fontsize=12)\n",
    "plt.boxplot(X_2)"
   ]
  },
  {
   "cell_type": "code",
   "execution_count": 17,
   "metadata": {},
   "outputs": [
    {
     "data": {
      "text/plain": [
       "{'whiskers': [<matplotlib.lines.Line2D at 0xf0ea130>,\n",
       "  <matplotlib.lines.Line2D at 0xf0ea2e0>],\n",
       " 'caps': [<matplotlib.lines.Line2D at 0xf0ea490>,\n",
       "  <matplotlib.lines.Line2D at 0xf0ea640>],\n",
       " 'boxes': [<matplotlib.lines.Line2D at 0xf0d8fa0>],\n",
       " 'medians': [<matplotlib.lines.Line2D at 0xf0ea7f0>],\n",
       " 'fliers': [<matplotlib.lines.Line2D at 0xf0ea9a0>],\n",
       " 'means': []}"
      ]
     },
     "execution_count": 17,
     "metadata": {},
     "output_type": "execute_result"
    },
    {
     "data": {
      "image/png": "[encoded data removed]",
      "text/plain": [
       "<Figure size 1296x576 with 2 Axes>"
      ]
     },
     "metadata": {
      "needs_background": "light"
     },
     "output_type": "display_data"
    }
   ],
   "source": [
    "fig3, ax3 = plt.subplots(ncols=2, figsize=(18, 8))\n",
    "\n",
    "X_3 = sc.fit_transform(X_3.reshape(-1,1))\n",
    "X_3 = X_3[X_3 < 8]\n",
    "plt.sca(ax3[0])\n",
    "plt.xlabel('km_driven', fontsize=12)\n",
    "plt.ylabel('relative frequency', fontsize=12)\n",
    "plt.hist(X_3, bins = 35, weights = np.zeros_like(X_3) + 1 / X_3.size)\n",
    "\n",
    "plt.sca(ax3[1])\n",
    "plt.ylabel('km_driven', fontsize=12)\n",
    "plt.boxplot(X_3)"
   ]
  },
  {
   "cell_type": "code",
   "execution_count": 18,
   "metadata": {},
   "outputs": [
    {
     "data": {
      "text/plain": [
       "{'whiskers': [<matplotlib.lines.Line2D at 0xf5bd1c0>,\n",
       "  <matplotlib.lines.Line2D at 0xf5bd370>],\n",
       " 'caps': [<matplotlib.lines.Line2D at 0xf5bd520>,\n",
       "  <matplotlib.lines.Line2D at 0xf5bd6d0>],\n",
       " 'boxes': [<matplotlib.lines.Line2D at 0xf5abf88>],\n",
       " 'medians': [<matplotlib.lines.Line2D at 0xf5bd880>],\n",
       " 'fliers': [<matplotlib.lines.Line2D at 0xf5bda30>],\n",
       " 'means': []}"
      ]
     },
     "execution_count": 18,
     "metadata": {},
     "output_type": "execute_result"
    },
    {
     "data": {
      "image/png": "[encoded data removed]",
      "text/plain": [
       "<Figure size 1296x576 with 2 Axes>"
      ]
     },
     "metadata": {
      "needs_background": "light"
     },
     "output_type": "display_data"
    }
   ],
   "source": [
    "fig4, ax4 = plt.subplots(ncols=2, figsize=(18, 8))\n",
    "\n",
    "X_4 = X_4[(X_4 > 5) & (X_4 < 40)]\n",
    "plt.sca(ax4[0])\n",
    "plt.xlabel('kmpl', fontsize=12)\n",
    "plt.ylabel('relative frequency', fontsize=12)\n",
    "plt.hist(X_4, bins = 30, weights = np.zeros_like(X_4) + 1 / X_4.size)\n",
    "\n",
    "plt.sca(ax4[1])\n",
    "plt.ylabel('kmpl', fontsize=12)\n",
    "plt.boxplot(X_4)\n",
    "\n"
   ]
  },
  {
   "cell_type": "code",
   "execution_count": null,
   "metadata": {},
   "outputs": [],
   "source": []
  },
  {
   "cell_type": "code",
   "execution_count": null,
   "metadata": {},
   "outputs": [],
   "source": []
  }
 ],
 "metadata": {
  "kernelspec": {
   "display_name": "Python 3",
   "language": "python",
   "name": "python3"
  },
  "language_info": {
   "codemirror_mode": {
    "name": "ipython",
    "version": 3
   },
   "file_extension": ".py",
   "mimetype": "text/x-python",
   "name": "python",
   "nbconvert_exporter": "python",
   "pygments_lexer": "ipython3",
   "version": "3.8.0"
  }
 },
 "nbformat": 4,
 "nbformat_minor": 4
}
